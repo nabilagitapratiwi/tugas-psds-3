{
  "nbformat": 4,
  "nbformat_minor": 0,
  "metadata": {
    "colab": {
      "provenance": []
    },
    "kernelspec": {
      "name": "python3",
      "display_name": "Python 3"
    },
    "language_info": {
      "name": "python"
    }
  },
  "cells": [
    {
      "cell_type": "code",
      "execution_count": 1,
      "metadata": {
        "colab": {
          "base_uri": "https://localhost:8080/"
        },
        "id": "qU3APesPpxno",
        "outputId": "3851c190-d746-437e-cd61-03a2a265d812"
      },
      "outputs": [
        {
          "output_type": "stream",
          "name": "stdout",
          "text": [
            "<class 'list'>\n"
          ]
        }
      ],
      "source": [
        "#contoh list\n",
        "L1 = [1, 4, 2, 13]\n",
        "\n",
        "print(type(L1))"
      ]
    },
    {
      "cell_type": "code",
      "source": [
        "L2 = ['a', 'python', 3]\n",
        "print(type(L2))"
      ],
      "metadata": {
        "colab": {
          "base_uri": "https://localhost:8080/"
        },
        "id": "uGHe1Rhlp0-V",
        "outputId": "625e7b8e-5e3b-494a-9c90-94765780d085"
      },
      "execution_count": 2,
      "outputs": [
        {
          "output_type": "stream",
          "name": "stdout",
          "text": [
            "<class 'list'>\n"
          ]
        }
      ]
    },
    {
      "cell_type": "code",
      "source": [
        "print(L1)\n",
        "print(L2)"
      ],
      "metadata": {
        "colab": {
          "base_uri": "https://localhost:8080/"
        },
        "id": "enYJPhevp4SZ",
        "outputId": "8035f92f-983c-4801-d0b0-c00db3337bf5"
      },
      "execution_count": 3,
      "outputs": [
        {
          "output_type": "stream",
          "name": "stdout",
          "text": [
            "[1, 4, 2, 13]\n",
            "['a', 'python', 3]\n"
          ]
        }
      ]
    },
    {
      "cell_type": "code",
      "source": [
        "L1 = [1, \"dua\", True, 2+3j]\n",
        "L1.extend([\"Lee Jeno\"])\n",
        "print(L1)"
      ],
      "metadata": {
        "colab": {
          "base_uri": "https://localhost:8080/"
        },
        "id": "7yRe5xX4p7yc",
        "outputId": "6d7b7906-7469-4521-cdcb-798d664678ba"
      },
      "execution_count": 4,
      "outputs": [
        {
          "output_type": "stream",
          "name": "stdout",
          "text": [
            "[1, 'dua', True, (2+3j), 'Lee Jeno']\n"
          ]
        }
      ]
    },
    {
      "cell_type": "code",
      "source": [
        "#sifat-sifat List\n",
        "\n",
        "#Terurut/Ordered\n",
        "print(\"Memanggil List L1 dengan indeks urutan:\", L1[0:3])\n",
        "\n",
        "#Bisa diganti/Mutable\n",
        "L1[1] = 2\n",
        "print(\"List L1 setelah diganti elemennya:\", L1)\n",
        "\n",
        "L1 = [1, \"dua\", True, 2+3j]\n",
        "\n",
        "#dapat diiindeks/Slicing\n",
        "print(\"Slicing List L1:\", L1[3])\n",
        "\n",
        "#dapat diijinkan duplikasi\n",
        "L1 = [1, \"dua\", True, 2+3j, 2+3j]\n",
        "print(\"duplikasi pada list L1:\", L1)\n",
        "\n",
        "#dapat mengubah data dengan mengganti elemen tertentu\n",
        "L1 = [1, \"dua\", True, 2+3j]\n",
        "L1[2] = 3\n",
        "print(\"Data setelah diubah:\", L1)\n",
        "\n",
        "#Dapat menambahkan elemen baru pada data\n",
        "L1 = [1, \"dua\", True, 2+3j]\n",
        "L1.append(20)\n",
        "print(\"data setelah ditambahkan elemennya:\", L1)\n",
        "\n",
        "#dapat menghapus elemen pada data (remove() = menghapus berdasarkan nama objek)\n",
        "L1 = [1, \"dua\", True, 2+3j]\n",
        "L1.remove(2+3j)\n",
        "print(\"Data setelah dihapus elemennya:\", L1)"
      ],
      "metadata": {
        "colab": {
          "base_uri": "https://localhost:8080/"
        },
        "id": "OF7R9Whnp8kG",
        "outputId": "e9a4ec8a-8ec5-47eb-9846-e14b1c994fc5"
      },
      "execution_count": 5,
      "outputs": [
        {
          "output_type": "stream",
          "name": "stdout",
          "text": [
            "Memanggil List L1 dengan indeks urutan: [1, 'dua', True]\n",
            "List L1 setelah diganti elemennya: [1, 2, True, (2+3j), 'Lee Jeno']\n",
            "Slicing List L1: (2+3j)\n",
            "duplikasi pada list L1: [1, 'dua', True, (2+3j), (2+3j)]\n",
            "Data setelah diubah: [1, 'dua', 3, (2+3j)]\n",
            "data setelah ditambahkan elemennya: [1, 'dua', True, (2+3j), 20]\n",
            "Data setelah dihapus elemennya: [1, 'dua', True]\n"
          ]
        }
      ]
    },
    {
      "cell_type": "code",
      "source": [
        "#menambahkan data menggunakan fungsi extend (menambahkan elemen baru pada list namun elemen tersebut ditambahkan secara individual)\n",
        "\n",
        "L1 = [1, \"dua\", True, 2+3j]\n",
        "L1.extend(\"min yoongi\")\n",
        "print(L1)"
      ],
      "metadata": {
        "colab": {
          "base_uri": "https://localhost:8080/"
        },
        "id": "04AcUBbEqIF8",
        "outputId": "7ababea7-009e-4eda-a260-424f0fa03b1e"
      },
      "execution_count": 8,
      "outputs": [
        {
          "output_type": "stream",
          "name": "stdout",
          "text": [
            "[1, 'dua', True, (2+3j), 'm', 'i', 'n', ' ', 'y', 'o', 'o', 'n', 'g', 'i']\n"
          ]
        }
      ]
    },
    {
      "cell_type": "code",
      "source": [
        "L1 = [1, \"dua\", True, 2+3j]\n",
        "L1.extend([\"min yoongi\"])\n",
        "print(L1)"
      ],
      "metadata": {
        "colab": {
          "base_uri": "https://localhost:8080/"
        },
        "id": "Lp9kf9EcqLWF",
        "outputId": "1226519f-0dbf-4d2a-d24f-58c9609195d3"
      },
      "execution_count": 9,
      "outputs": [
        {
          "output_type": "stream",
          "name": "stdout",
          "text": [
            "[1, 'dua', True, (2+3j), 'min yoongi']\n"
          ]
        }
      ]
    },
    {
      "cell_type": "code",
      "source": [
        "#menambahkan data dengan fungsi insert (menambahkan elemen baru di List pada indeks tertentu)\n",
        "L1 = [1, \"dua\", True, 2+3j]\n",
        "L1.insert(4,7)\n",
        "print(L1)"
      ],
      "metadata": {
        "colab": {
          "base_uri": "https://localhost:8080/"
        },
        "id": "S6bV6XAGqVU4",
        "outputId": "2e24c2ba-739d-49be-ff77-d0ddd37b4bdd"
      },
      "execution_count": 10,
      "outputs": [
        {
          "output_type": "stream",
          "name": "stdout",
          "text": [
            "[1, 'dua', True, (2+3j), 7]\n"
          ]
        }
      ]
    },
    {
      "cell_type": "code",
      "source": [
        "#menghapus elemen dari list menggunakan fungsi pop (menghapus berdasarkan indeks)\n",
        "L1 = [1, \"dua\", True, 2+3j]\n",
        "L1.pop(0)\n",
        "print(L1)"
      ],
      "metadata": {
        "colab": {
          "base_uri": "https://localhost:8080/"
        },
        "id": "BBOohpCAqZHK",
        "outputId": "1e11314f-dcb9-40c5-9273-83b7a3212750"
      },
      "execution_count": 11,
      "outputs": [
        {
          "output_type": "stream",
          "name": "stdout",
          "text": [
            "['dua', True, (2+3j)]\n"
          ]
        }
      ]
    },
    {
      "cell_type": "code",
      "source": [
        "L1 = [1, \"dua\", True, 2+3j]\n",
        "L1.pop()\n",
        "print(L1)"
      ],
      "metadata": {
        "colab": {
          "base_uri": "https://localhost:8080/"
        },
        "id": "ABAA8WnRqdP9",
        "outputId": "8b2c0428-4ce8-49fc-c3bf-edb54c2aa3f7"
      },
      "execution_count": 12,
      "outputs": [
        {
          "output_type": "stream",
          "name": "stdout",
          "text": [
            "[1, 'dua', True]\n"
          ]
        }
      ]
    },
    {
      "cell_type": "markdown",
      "source": [
        "Latihan"
      ],
      "metadata": {
        "id": "gXSwTPK9qsDg"
      }
    },
    {
      "cell_type": "code",
      "source": [
        "#1. Buatlah list kalian sendiri\n",
        "\n",
        "L3 = [1, \"satu\", True, 3+5j]\n",
        "print(L3)"
      ],
      "metadata": {
        "colab": {
          "base_uri": "https://localhost:8080/"
        },
        "id": "nG5bxslpqu9P",
        "outputId": "0411de26-64d1-4ccc-9f82-f24169aee278"
      },
      "execution_count": 13,
      "outputs": [
        {
          "output_type": "stream",
          "name": "stdout",
          "text": [
            "[1, 'satu', True, (3+5j)]\n"
          ]
        }
      ]
    },
    {
      "cell_type": "code",
      "source": [
        "#sifat-sifat list\n",
        "print(\"Memanggil List L3 dengan indeks urutan:\", L3[0:3])\n",
        "\n",
        "L3[1] = 2\n",
        "print(\"List L3 setelah diganti elemennya:\", L1)\n",
        "\n",
        "L3 = [1, \"satu\", True, 3+5j]\n",
        "\n",
        "print(\"Slicing List L3:\", L3[3])\n",
        "\n",
        "L3 = [1, \"satu\", True, 3+5j]\n",
        "print(\"duplikasi pada list L3:\", L3)\n",
        "\n",
        "L3 = [1, \"satu\", True, 3+5j]\n",
        "L3[2] = 3\n",
        "print(\"Data setelah diubah:\", L3)\n",
        "\n",
        "L3 = [1, \"satu\", True, 3+5j]\n",
        "L3.append(10)\n",
        "print(\"data setelah ditambahkan elemennya:\", L3)\n",
        "\n",
        "L3 = [1, \"satu\", True, 3+5j]\n",
        "L3.remove(3+5j)\n",
        "print(\"Data setelah dihapus elemennya:\", L3)"
      ],
      "metadata": {
        "colab": {
          "base_uri": "https://localhost:8080/"
        },
        "id": "EzLjSPthq7B2",
        "outputId": "dd7674a8-3d50-4d75-c16d-6b4216786564"
      },
      "execution_count": 14,
      "outputs": [
        {
          "output_type": "stream",
          "name": "stdout",
          "text": [
            "Memanggil List L3 dengan indeks urutan: [1, 'satu', True]\n",
            "List L3 setelah diganti elemennya: [1, 'dua', True]\n",
            "Slicing List L3: (3+5j)\n",
            "duplikasi pada list L3: [1, 'satu', True, (3+5j)]\n",
            "Data setelah diubah: [1, 'satu', 3, (3+5j)]\n",
            "data setelah ditambahkan elemennya: [1, 'satu', True, (3+5j), 10]\n",
            "Data setelah dihapus elemennya: [1, 'satu', True]\n"
          ]
        }
      ]
    },
    {
      "cell_type": "code",
      "source": [
        "L3 = [1, \"satu\", True, 3+5j]\n",
        "L3.extend(\"Jeno\")\n",
        "print(L3)\n",
        "\n",
        "L3 = [1, \"satu\", True, 3+5j]\n",
        "L3.extend([\"Jeno\"])\n",
        "print(L3)\n",
        "\n",
        "L3 = [1, \"satu\", True, 3+5j]\n",
        "L3.insert(1,6)\n",
        "print(L3)\n",
        "\n",
        "L3 = [1, \"satu\", True, 3+5j]\n",
        "L3.pop(2)\n",
        "print(L3)"
      ],
      "metadata": {
        "colab": {
          "base_uri": "https://localhost:8080/"
        },
        "id": "pW1dBlXVq_UT",
        "outputId": "6544917b-487b-4fb5-e45f-0c1b9729f075"
      },
      "execution_count": 15,
      "outputs": [
        {
          "output_type": "stream",
          "name": "stdout",
          "text": [
            "[1, 'satu', True, (3+5j), 'J', 'e', 'n', 'o']\n",
            "[1, 'satu', True, (3+5j), 'Jeno']\n",
            "[1, 6, 'satu', True, (3+5j)]\n",
            "[1, 'satu', (3+5j)]\n"
          ]
        }
      ]
    }
  ]
}